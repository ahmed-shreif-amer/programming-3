{
 "cells": [
  {
   "cell_type": "code",
   "execution_count": null,
   "metadata": {},
   "outputs": [],
   "source": [
    "# Domain family ==> AF_INET ==> ipv4 , PF_INET, AF_UNIX\n",
    "# Type ==> SOCK_STREAM ==> tcp , SOCK_DGRAM for udp \n",
    "# hostname , port \n",
    "# all this from socket library \n",
    "\n",
    "import socket\n",
    "s=socket.socket(socket.AF_INET , socket.SOCK_DGRAM)\n",
    "\n",
    "hostname = \"\"\n",
    "port = 80 ## defult\n",
    "s.bind(hostname , port)\n",
    "s.listen(5) ## make can accept 5 clients \n",
    "\n",
    "client, addr=s.accept() # Establish connection with client.\n",
    "\n",
    "while True:\n",
    "    x=client.recv(2048) # recive a message from the client.\n",
    "    print(\"client : \",x.decode('utf-8')) # print message \n",
    "    y=input(\" server : \") \n",
    "    client.send(y.encode('utf-8')) # send a message to the client.\n",
    "s.close() # close connection"
   ]
  }
 ],
 "metadata": {
  "language_info": {
   "name": "python"
  }
 },
 "nbformat": 4,
 "nbformat_minor": 2
}
