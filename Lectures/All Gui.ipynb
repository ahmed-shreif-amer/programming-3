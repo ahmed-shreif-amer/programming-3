{
 "cells": [
  {
   "cell_type": "markdown",
   "metadata": {},
   "source": [
    "### libraries"
   ]
  },
  {
   "cell_type": "code",
   "execution_count": 19,
   "metadata": {},
   "outputs": [],
   "source": [
    "import tkinter\n",
    "from tkinter import messagebox \n",
    "app = tkinter.Tk() # object from tkinter"
   ]
  },
  {
   "cell_type": "markdown",
   "metadata": {},
   "source": [
    "### functions"
   ]
  },
  {
   "cell_type": "code",
   "execution_count": 20,
   "metadata": {},
   "outputs": [],
   "source": [
    "def sum ():\n",
    "    n1= e1.get()\n",
    "    n2 = e2.get()\n",
    "    result = int(n1)+int(n2)\n",
    "    labelResult.config(text=f'n1 + n2 is {result}') # config () ==> save result inside the label , labelResult ==> is label and set as variable \n",
    "\n",
    "def abstract ():\n",
    "    n1= e1.get()\n",
    "    n2 = e2.get()\n",
    "    result = int(n1)-int(n2)\n",
    "    messagebox.showinfo(\"abstract\", f'n1 - n2 is {result}') # showinfo ==> see message in new tab , messagebox from module tkinter\n",
    "\n",
    "def fun3 ():\n",
    "    n1= e1.get()\n",
    "    n2 = e2.get()\n",
    "    result = int(n1)*int(n2)\n",
    "    labelResult.config(text=f'n1 * n2 is {result}') # config () ==> save result inside the label , labelResult ==> is label and set as variable \n",
    "\n",
    "def fun4 ():\n",
    "    n1= e1.get()\n",
    "    n2 = e2.get()\n",
    "    result = int(n1)/int(n2)\n",
    "    labelResult.config(text=f'n1 / n2 is {result}') # config () ==> save result inside the label , labelResult ==> is label and set as variable \n",
    "\n",
    "\n",
    "# def fun():\n",
    "#     chld = tkinter.Toplevel(app) ## open anew window of application\n",
    "#     chld.mainloop()"
   ]
  },
  {
   "cell_type": "markdown",
   "metadata": {},
   "source": [
    "### types of input\n",
    "* Button ==> Creates buttons\n",
    "* Checkbutton ==> Select one or more options (Checkbox)\n",
    "* Entry ==> Allows user to enter input text (Textbox)\n",
    "* Label ==> to disblay word \n",
    "* Frame ==> as container put elemnt in it \n",
    "* Listbox ==> put items on it to Display list items\n",
    "* Radiobutton ==> make user Select one option from multiple options.\n",
    "* Text ==> Allow user to enter multiple line  (Textarea)\n",
    "* Scale ==> Create the slider make user can slide through the range of values\n",
    "* Toplevel ==> Used to create new window\n"
   ]
  },
  {
   "cell_type": "markdown",
   "metadata": {},
   "source": [
    "### options \n",
    "* ( width , height , padx , pady , bg ==> background color , fg ==> font color , command ==> function , bd ==> add border )\n",
    "* activebackground ==> background image when press , activeforeground ==> font color when press \n",
    "<br><br>\n",
    "* image (in label ==> set image in it )\n",
    "* show (in entry ==>  when write any thing show as we want ==> show=\"*\" )\n",
    "* Variable ( in radio button ==> is used to keep the user's choices and not allow user to choose more than one ) \n",
    "* in Scale (from_ ==> start of range  , to ==> end of range represented by scale. , orient ==> horizontal or vertical )\n"
   ]
  },
  {
   "cell_type": "code",
   "execution_count": 21,
   "metadata": {},
   "outputs": [],
   "source": [
    "app.title(\"calc\") # title of program \n",
    "app.geometry(\"400x300\") # size of display of program \n",
    "\n",
    "e1 = tkinter.Entry(app ,bd=7) # create input  \n",
    "e2 = tkinter.Entry(app,bd=7) \n",
    "\n",
    "num1 = tkinter.Label(app,text = \"n1 : \") # create label that can put text on it \n",
    "num2 = tkinter.Label(app,text = \"n2 : \")\n",
    "\n",
    "# cbtn1 = tkinter.Checkbutton(app, text=\"red\" , fg=\"red\") # create cheack box \n",
    "# cbtn2 = tkinter.Checkbutton(app, text=\"Green\" , fg=\"green\") \n",
    "# cbtn3 = tkinter.Checkbutton(app, text=\"Blue\" , fg=\"blue\")\n",
    "\n",
    "# lb = tkinter.Listbox(app,height=5)\n",
    "# lb.insert(1,\"Red\") \n",
    "# lb.insert(2, \"Yellow\") \n",
    "# lb.insert(3, \"Green\") \n",
    "\n",
    "# s = tkinter.Scale(app , from_=1 , to = 100 , orient=\"horizontal\")\n",
    "\n",
    "# radio = tkinter.IntVar() ## create variable of Radiobutton\n",
    "# rbtn1 = tkinter.Radiobutton(app, text=\"red\",variable=radio,value=\"1\") \n",
    "# rbtn2 = tkinter.Radiobutton(app, text=\"Green\",variable=radio,value=\"2\")\n",
    "# rbtn3 = tkinter.Radiobutton(app, text=\"Blue\",variable=radio,value=\"3\")\n",
    "\n",
    "# text= tkinter.Text(app)\n",
    "\n",
    "labelResult = tkinter.Label(app)\n",
    "\n",
    "btn1 = tkinter.Button(app, text = \"Sum\" , bg=\"blue\" , fg=\"white\", height=1 , width=9 ,command=sum ) # create button \n",
    "btn2 = tkinter.Button(app, text = \"abstract\" , command=abstract)\n",
    "btn3 =tkinter.Button(app , text = \"multiply \" , command=fun3 )\n",
    "btn4 = tkinter.Button(app , text = \"divide\", command= fun4)"
   ]
  },
  {
   "cell_type": "markdown",
   "metadata": {},
   "source": [
    "### there 3 ways to put elemnt in gui\n",
    "    first pack ==> put elemnt in random way and in right or left or center \n",
    "* btn1.pack( side = tkinter.LEFT)\n",
    "### \n",
    "    second grid ==> select the right way to put element by row , column  (row num , column row)\n",
    "* btn1.grid(row = 0, column = 0,pady=10,padx=5)\n",
    "###\n",
    "    third place ==> put elemnt in specific px by select x px , and y px (( start from upper left ))\n",
    "* btn1.place (x=50 , y =70)"
   ]
  },
  {
   "cell_type": "code",
   "execution_count": 22,
   "metadata": {},
   "outputs": [],
   "source": [
    "num1.place(x = 50 , y=100)\n",
    "e1.place( x=70 , y = 100)\n",
    "\n",
    "num2.place(x = 50 , y=150)\n",
    "e2.place( x=70 , y = 150)\n",
    "\n",
    "# cbtn1.place(x=50 , y=180)\n",
    "# cbtn2.place(x=100 , y=180)\n",
    "# cbtn3.place(x=160 , y=180)\n",
    "\n",
    "# rbtn1.place(x=50 , y=210)\n",
    "# rbtn2.place(x=100 , y=210)\n",
    "# rbtn3.place(x=160 , y=210)\n",
    "\n",
    "btn1.place(x=50 , y=200)\n",
    "btn2.place(x=130 , y=200)\n",
    "btn3.place(x=190 , y = 200)\n",
    "btn4.place(x= 250 , y = 200)\n",
    "\n",
    "labelResult.place(x=50 , y = 230)\n",
    "\n",
    "# lb.place(x=50 , y = 310)\n",
    "# text.place(x=50 , y = 350 )\n",
    "# s.place(x = 50 , y=400)\n",
    "\n",
    "app.mainloop()"
   ]
  },
  {
   "cell_type": "markdown",
   "metadata": {},
   "source": [
    "### Other GUIs:\n",
    "* Tix (Tk Interface eXtensions)\n",
    "* Pmw (Python MegaWidgets Tkinter extension)\n",
    "* wxPython (Python binding to wxWidgets)\n",
    "\n",
    "==> Tix stands for Tk Interface Extension, is extension library for Tcl/Tk. \n",
    "* Tix adds many new widgets, image types\n",
    "* Tix includes the standard, widgets those are tixGrid,tixHList,tixInputOnly, tixTlist\n",
    "\n",
    "==> Pmw is a toolkit for building high-level compound widgets in using the Tkinter module. <br>\n",
    "* It consists of set of base classes and a library of flexible and extensible megawidgets<br>\n",
    "* megawidgets include notebooks, comboboxes, selection widgets, paned widgets, scrolled widgets and dialog windows.\n",
    "\n",
    "==> wxPython is a blending of wxWidgets GUI classes and the Python programming language. <br>\n",
    "* Python package that can be imported at runtime that includes a collection of Python modules  , contain also (native code)\n"
   ]
  },
  {
   "cell_type": "markdown",
   "metadata": {},
   "source": []
  }
 ],
 "metadata": {
  "kernelspec": {
   "display_name": "base",
   "language": "python",
   "name": "python3"
  },
  "language_info": {
   "codemirror_mode": {
    "name": "ipython",
    "version": 3
   },
   "file_extension": ".py",
   "mimetype": "text/x-python",
   "name": "python",
   "nbconvert_exporter": "python",
   "pygments_lexer": "ipython3",
   "version": "3.11.5"
  }
 },
 "nbformat": 4,
 "nbformat_minor": 2
}
