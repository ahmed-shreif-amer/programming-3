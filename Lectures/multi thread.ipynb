{
 "cells": [
  {
   "cell_type": "markdown",
   "metadata": {},
   "source": [
    "### thread vs process\n",
    "* thread is lightweight process\" , thread exist entirely inside the process and share its resources , sequence of a control flow.\n",
    "* process is a program in execution. Has its own address space, memory, stack and All managed by the Operating System\n",
    "<br><br>\n",
    "* thread is an individual and separate unit of execution that is part of a process.  , Multiple thread can work together to accomplish a common goal.\n",
    "* process is a running program \n",
    "<br><br>\n",
    "* each thread with global variables has its local variables also ... its code to control the flow between the local and global variable\n",
    "* single process may have multiple threads to make concurrent\n",
    "\n",
    "### type of threads \n",
    "* Kernal thread ( is the part of operating system ).\n",
    "* User thread (implemented of function concepts in programing languages by developer ).\n",
    "\n",
    "### advantage of threads \n",
    "* Multithreaded programs can run faster\n",
    "* Allow to do another task while one thread is waiting for an i/o task\n",
    "* help to use concurrency\n"
   ]
  },
  {
   "cell_type": "markdown",
   "metadata": {},
   "source": [
    "### implement \n",
    "==> there a two module that can do threading by it <br>\n",
    "Thread module , Threading module"
   ]
  },
  {
   "cell_type": "code",
   "execution_count": 9,
   "metadata": {},
   "outputs": [],
   "source": [
    "import time\n",
    "\n",
    "def calc_square(numbers):\n",
    "    for n in numbers:\n",
    "        time.sleep(5)\n",
    "        print ('square '+ str(n*n))\n",
    " \n",
    "def calc_cupe(numbers):\n",
    "    for n in numbers:\n",
    "        time.sleep(5)\n",
    "        print ('cupe '+ str(n*n*n))\n",
    " \n",
    "numbers = [1,3,7,22]"
   ]
  },
  {
   "cell_type": "markdown",
   "metadata": {},
   "source": [
    "### _thread module"
   ]
  },
  {
   "cell_type": "code",
   "execution_count": null,
   "metadata": {},
   "outputs": [],
   "source": [
    "import _thread\n",
    "_thread.start_new_thread (calc_square, (numbers,))\n",
    "_thread.start_new_thread (calc_cupe, (numbers,))"
   ]
  },
  {
   "cell_type": "markdown",
   "metadata": {},
   "source": [
    "### Threading Module"
   ]
  },
  {
   "cell_type": "code",
   "execution_count": null,
   "metadata": {},
   "outputs": [],
   "source": [
    "import threading\n",
    "\n",
    "t1 = threading.Thread (target=calc_square , args=(numbers,))\n",
    "t2 = threading.Thread (target=calc_cupe , args=(numbers,))\n",
    "\n",
    "t1.start() ## start thread and make it work \n",
    "t2.start()\n",
    "\n",
    "t1.join() ## make any code in main program wait untill thread finish \n",
    "t2.join() \n",
    "\n",
    "## control in shared data \n",
    "# lock = threading.Lock() ## create a lock \n",
    "# lock.acquire() ## lock global data untill thread finish modify\n",
    "# lock.release() ## unlock global data now ant  thread finish modify\n",
    "# lock.locked() # Check lock state ( true ==> locked , false ==> opened )\n",
    "\n",
    "print(\"done\")"
   ]
  },
  {
   "cell_type": "markdown",
   "metadata": {},
   "source": [
    "### notes\n",
    "* Python execution is controlled by the Python Virtual Machine ( the main loop of the interpreter )\n",
    "* Only ONE thread can execute in the interpreter at a time \n",
    "* New thread run when running thread voluntarily sleeps, ends or when a specified number of instructions executes\n",
    "* when main thread ends program does not wait for child threads"
   ]
  }
 ],
 "metadata": {
  "kernelspec": {
   "display_name": "base",
   "language": "python",
   "name": "python3"
  },
  "language_info": {
   "codemirror_mode": {
    "name": "ipython",
    "version": 3
   },
   "file_extension": ".py",
   "mimetype": "text/x-python",
   "name": "python",
   "nbconvert_exporter": "python",
   "pygments_lexer": "ipython3",
   "version": "3.11.5"
  }
 },
 "nbformat": 4,
 "nbformat_minor": 2
}
