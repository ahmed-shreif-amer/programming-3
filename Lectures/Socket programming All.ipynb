{
 "cells": [
  {
   "cell_type": "markdown",
   "metadata": {},
   "source": [
    "### intro\n",
    "* Most networking applications is ( client - server model ) ==> peer to peer\n",
    "* purpose of the application ==> provide some defined service for clients.\n",
    "* servers is catogrized into two classes: iterative and concurrent\n",
    "<br><br>\n",
    "* server ==> iterative  ( when processing no another client can request the service )\n",
    "1. Wait for a client request to arrive.\n",
    "2. Process the client request.\n",
    "3. Send the response back to the client that sent the request.\n",
    "4. then go back to client request again \n",
    "* server ==> concurrent  ( is most common in applications )\n",
    "1. Wait for a client request \n",
    "2. Start a new server to handle this client’s request ( this perform new server to handel process )\n",
    "3. then go back to client request again ( not wait untill process done )"
   ]
  },
  {
   "cell_type": "markdown",
   "metadata": {},
   "source": [
    "\n",
    "##### advantage of a concurrent server\n",
    "* server just spawns other servers to handle the client requests\n",
    "* Each client has, in essence, its own server\n",
    "* because operating system allows multiprogramming, multiple clients are serviced concurrently.\n",
    "<br><br>\n",
    "* TCP servers are concurrent.\n",
    "* UDP servers are iterative"
   ]
  },
  {
   "cell_type": "markdown",
   "metadata": {},
   "source": [
    "### the way of connect\n",
    "* in client side : socket , then connect then write and read , at end close \n",
    "* in server side : socket , then bind , then listen , then accept then read and write , then close "
   ]
  },
  {
   "cell_type": "markdown",
   "metadata": {},
   "source": [
    "### server method\n",
    ".bind() \"contain ip address , port no\" ==>  it can listen to any income requests on this IP and port. <br>\n",
    ".listen() ==> Put server into listening mode to allow any conncection <br>\n",
    ".accept() ==> accept connection when arrive \n",
    "\n",
    "### client method\n",
    ".connect() ==> connect to tcp <br>\n",
    ".recv() ==> recive tcp <br>\n",
    ".sendto() ===> send udp <br>\n",
    ".recvfrom() ==> recive udp\n",
    "<br><br>\n",
    ".close()  ==> close connection\n"
   ]
  },
  {
   "cell_type": "markdown",
   "metadata": {},
   "source": [
    "Low-Level Access ==> access the basic socket support of the operating system.\n",
    "<br>\n",
    "High-Level Access ==> allow user to create http , or ftp portocol "
   ]
  },
  {
   "cell_type": "markdown",
   "metadata": {},
   "source": [
    "## implement "
   ]
  },
  {
   "cell_type": "markdown",
   "metadata": {},
   "source": [
    "### server - side"
   ]
  },
  {
   "cell_type": "code",
   "execution_count": 1,
   "metadata": {},
   "outputs": [],
   "source": [
    "# Domain family ==> AF_INET ==> ipv4 , PF_INET, AF_UNIX\n",
    "# Type ==> SOCK_STREAM ==> tcp , SOCK_DGRAM for udp \n",
    "# hostname , port \n",
    "# all this from socket library \n",
    "\n",
    "import socket\n",
    "s=socket.socket(socket.AF_INET , socket.SOCK_DGRAM)\n",
    "\n",
    "hostname = \"\"\n",
    "port = 80 ## defult\n",
    "s.bind(hostname , port)\n",
    "s.listen(5) ## make can accept 5 clients \n",
    "\n",
    "client, addr=s.accept() # Establish connection with client.\n",
    "\n",
    "while True:\n",
    "    x=client.recv(2048) # recive a message from the client.\n",
    "    print(\"client : \",x.decode('utf-8')) # print message \n",
    "    y=input(\" server : \") \n",
    "    client.send(y.encode('utf-8')) # send a message to the client.\n",
    "s.close() # close connection"
   ]
  },
  {
   "cell_type": "markdown",
   "metadata": {},
   "source": [
    "### client server"
   ]
  },
  {
   "cell_type": "code",
   "execution_count": null,
   "metadata": {},
   "outputs": [],
   "source": [
    "import socket\n",
    "s=socket.socket(socket.AF_INET , socket.SOCK_DGRAM)\n",
    "\n",
    "hostname = \"\"\n",
    "port = 80 ## defult\n",
    "s.connect((hostname , port))\n",
    "\n",
    "while True:\n",
    "    y=input(\"client : \")\n",
    "    s.send(y.encode('utf-8')) ### send message to server \n",
    "    x=s.recv(2048) # recive a message from the server \n",
    "    print(\"server : \",x.decode('utf-8')) # print message \n",
    "s.close()\n"
   ]
  },
  {
   "cell_type": "code",
   "execution_count": null,
   "metadata": {},
   "outputs": [],
   "source": [
    "## to make socket in multi thread \n",
    "\n",
    "import socket\n",
    "import threading \n",
    "\n",
    "s = socket.socket(socket.AF_INET, socket.SOCK_STREAM)\n",
    "hostname= \"172.0.0.1\"\n",
    "port = 8000\n",
    "\n",
    "## for server \n",
    "s.bind((hostname, port))\n",
    "s.listen()\n",
    "client , addr = s.accept() # Establish connection with client.\n",
    "\n",
    "## for client \n",
    "s.connect((hostname , port ))\n",
    "\n",
    "def recive ():\n",
    "    while True:\n",
    "        a= s.recv(1024)\n",
    "        a.decode(\"utf-8\")\n",
    "\n",
    "def send(y):\n",
    "    while True:\n",
    "        y=input (\"\")\n",
    "        s.send(y.decode(\"utf-8\"))\n",
    "\n",
    "\n",
    "t1 = threading.Thread(target=recive)\n",
    "t2 = threading.Thread(target=send)\n",
    "\n",
    "t1.daemon= True\n",
    "t2.daemon= True\n",
    "\n",
    "t1.start()\n",
    "t2.start()"
   ]
  }
 ],
 "metadata": {
  "kernelspec": {
   "display_name": "base",
   "language": "python",
   "name": "python3"
  },
  "language_info": {
   "codemirror_mode": {
    "name": "ipython",
    "version": 3
   },
   "file_extension": ".py",
   "mimetype": "text/x-python",
   "name": "python",
   "nbconvert_exporter": "python",
   "pygments_lexer": "ipython3",
   "version": "3.11.5"
  }
 },
 "nbformat": 4,
 "nbformat_minor": 2
}
