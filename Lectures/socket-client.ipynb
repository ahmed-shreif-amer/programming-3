{
 "cells": [
  {
   "cell_type": "code",
   "execution_count": null,
   "metadata": {},
   "outputs": [],
   "source": [
    "import socket\n",
    "s=socket.socket(socket.AF_INET , socket.SOCK_DGRAM)\n",
    "\n",
    "hostname = \"\"\n",
    "port = 80 ## defult\n",
    "s.connect((hostname , port))\n",
    "\n",
    "while True:\n",
    "    y=input(\"client : \")\n",
    "    s.send(y.encode('utf-8')) ### send message to server \n",
    "    x=s.recv(2048) # recive a message from the server \n",
    "    print(\"server : \",x.decode('utf-8')) # print message \n",
    "s.close()\n"
   ]
  }
 ],
 "metadata": {
  "language_info": {
   "name": "python"
  }
 },
 "nbformat": 4,
 "nbformat_minor": 2
}
