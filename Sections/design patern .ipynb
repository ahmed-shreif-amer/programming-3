{
 "cells": [
  {
   "cell_type": "markdown",
   "metadata": {},
   "source": [
    "### __new__ \n",
    "* when create object then open __init__\n",
    "* *args and **kwargs. is optional \n",
    "* can use it to clear any object "
   ]
  },
  {
   "cell_type": "markdown",
   "metadata": {},
   "source": [
    "#### Design Pattern"
   ]
  },
  {
   "cell_type": "markdown",
   "metadata": {},
   "source": [
    "\n",
    "### facade\n",
    "* hide complixity of classes \n",
    "* sow one interface to user "
   ]
  },
  {
   "cell_type": "code",
   "execution_count": 48,
   "metadata": {},
   "outputs": [],
   "source": [
    "class c1 :\n",
    "    def f1 (self):\n",
    "        pass\n",
    "class c2 :\n",
    "    def f2 (self):\n",
    "        pass \n",
    "\n",
    "class main :\n",
    "    def __init__(self) :\n",
    "        self.c1 = c1()\n",
    "        self.c2 = c2()\n",
    "        \n",
    "    def start (self):\n",
    "        self.c1.f1()\n",
    "        self.c2.f2()\n",
    "\n",
    "obj = main()\n",
    "obj.start()"
   ]
  },
  {
   "cell_type": "markdown",
   "metadata": {},
   "source": [
    "#### fly Weight \n",
    "* use less than of memory \n",
    "* usefull when need to create largr amount of similar obj\n",
    "* work by create class contain common "
   ]
  },
  {
   "cell_type": "code",
   "execution_count": 57,
   "metadata": {},
   "outputs": [
    {
     "name": "stdout",
     "output_type": "stream",
     "text": [
      "True\n",
      "False\n"
     ]
    }
   ],
   "source": [
    "class Common:\n",
    "    def __init__(self, name):\n",
    "        self.name = name\n",
    "\n",
    "class Use:\n",
    "    objects = {} # Shared pool of common objects\n",
    "    def set_data(self, info):\n",
    "        if info not in Use.objects: # cheack if object is exist \n",
    "            Use.objects[info] = Common(info) ## append it \n",
    "        self.common = Use.objects[info] # save object in objects to use it\n",
    "        \n",
    "    def get_data(self):\n",
    "        return id(self.common)\n",
    "    \n",
    "obj1 = Use()\n",
    "obj2 = Use()\n",
    "obj3 = Use()\n",
    "\n",
    "obj1.set_data(\"ahmed\")\n",
    "obj2.set_data(\"mohamed\")\n",
    "obj3.set_data(\"ahmed\")\n",
    "\n",
    "print (obj1.get_data()==obj3.get_data()) ### cheack ==> true\n",
    "print (obj1.get_data()==obj2.get_data()) ### cheack ==> false \n"
   ]
  },
  {
   "cell_type": "markdown",
   "metadata": {},
   "source": [
    "#### Adapter \n",
    "* allow objects that is in compitable work together \n",
    "* work as briadge \n",
    "* convert class interface to user exepect"
   ]
  },
  {
   "cell_type": "code",
   "execution_count": 47,
   "metadata": {},
   "outputs": [],
   "source": [
    "class a :\n",
    "    def m1 (self):\n",
    "        print (\"m1\")\n",
    "\n",
    "class b :\n",
    "    def m2 (self):\n",
    "        print (\"m2\")\n",
    "\n",
    "# adapter use another class function name , but with his imolementation\n",
    "class a_adapter :\n",
    "    def __init__(self):\n",
    "        self.a = a()\n",
    "    def m2 (self):\n",
    "        self.a.m1()\n",
    "\n",
    "## another example \n",
    "class b_adapter :\n",
    "    def __init__ (self):\n",
    "        self.b = b()\n",
    "    def m1 (self):\n",
    "        self.b.m2()"
   ]
  },
  {
   "cell_type": "markdown",
   "metadata": {},
   "source": [
    "#### memento \n",
    "* use to save internal state of object \n",
    "* can restore it without violate\n",
    "<br><br>\n",
    "* Memento ==> object save oriiginal\n",
    "* Caretaker ==> keep tracks , can restore \n"
   ]
  },
  {
   "cell_type": "code",
   "execution_count": 87,
   "metadata": {},
   "outputs": [
    {
     "name": "stdout",
     "output_type": "stream",
     "text": [
      "mohamed\n"
     ]
    }
   ],
   "source": [
    "class Original:\n",
    "    def __init__(self, name):\n",
    "        self.name = name\n",
    "    def get(self):\n",
    "        return self.name\n",
    "\n",
    "class Change:\n",
    "    def __init__(self, obj):\n",
    "        self.obj = obj\n",
    "    def edit(self):\n",
    "        self.name = \"ahmed\"  # Temporary assignment\n",
    "        return self.name\n",
    "    def save(self):\n",
    "        self.obj.name = self.edit()  # Update name of the Original instance\n",
    "    def restore(self):\n",
    "        self.name = self.obj.get()  # Restore name from the Original instance\n",
    "\n",
    "a = Original(\"mohamed\")\n",
    "b = Change(a)\n",
    "\n",
    "# b.save() \n",
    "b.restore()\n",
    "\n",
    "print(a.name)  #cheack\n"
   ]
  },
  {
   "cell_type": "markdown",
   "metadata": {},
   "source": [
    "#### Factory\n",
    "* use to create objects\n",
    "* to use it use main class and options"
   ]
  },
  {
   "cell_type": "code",
   "execution_count": 102,
   "metadata": {},
   "outputs": [
    {
     "name": "stdout",
     "output_type": "stream",
     "text": [
      "option2\n"
     ]
    }
   ],
   "source": [
    "class o1 :\n",
    "    def __init__(self):\n",
    "        print (\"option1\")\n",
    "class o2 :\n",
    "    def __init__(self):\n",
    "        print (\"option2\")\n",
    "\n",
    "class options :\n",
    "    def choose (option):\n",
    "        if option == \"a\":\n",
    "            return o1()\n",
    "        elif option ==\"b\":\n",
    "            return o2()\n",
    "        \n",
    "test = options.choose(\"b\")"
   ]
  },
  {
   "cell_type": "markdown",
   "metadata": {},
   "source": [
    "#### builder \n",
    "* used to build complex objects \n",
    "* separate the build of object from representation\n",
    "* can use same builder to build different representations.\n",
    "* builder as factory but if it complex use builder"
   ]
  },
  {
   "cell_type": "code",
   "execution_count": 131,
   "metadata": {},
   "outputs": [
    {
     "name": "stdout",
     "output_type": "stream",
     "text": [
      "['a', 'b']\n"
     ]
    }
   ],
   "source": [
    "class b:\n",
    "    def __init__(self, obj):\n",
    "        self.builder = obj\n",
    "\n",
    "    def build_a(self):\n",
    "        self.builder.parts.append('a')\n",
    "        return self\n",
    "\n",
    "    def build_b(self):\n",
    "        self.builder.parts.append('b')\n",
    "        return self\n",
    "\n",
    "    def get(self):\n",
    "        return self.builder\n",
    "\n",
    "class builder:\n",
    "    def __init__(self):\n",
    "        self.parts = []\n",
    "\n",
    "    def build(self):\n",
    "        return b(self).build_a().build_b().get()\n",
    "\n",
    "b_obj = builder()\n",
    "result = b_obj.build()\n",
    "print(result.parts)  # Output: ['a', 'b']\n"
   ]
  },
  {
   "cell_type": "markdown",
   "metadata": {},
   "source": [
    "#### single tone \n",
    "* class only have one instance \n",
    "* provide global access to instance\n",
    "* should not contain any references to self but use static "
   ]
  },
  {
   "cell_type": "code",
   "execution_count": 114,
   "metadata": {},
   "outputs": [
    {
     "name": "stdout",
     "output_type": "stream",
     "text": [
      "True\n"
     ]
    }
   ],
   "source": [
    "class log:\n",
    "    def __new__(cls):\n",
    "        return cls\n",
    "\n",
    "l1 = log ()\n",
    "l2 = log ()\n",
    "\n",
    "print(l1 is l2)  # Output: True"
   ]
  },
  {
   "cell_type": "code",
   "execution_count": 116,
   "metadata": {},
   "outputs": [
    {
     "name": "stdout",
     "output_type": "stream",
     "text": [
      "True\n",
      "Log: m1\n",
      "Log: m2\n"
     ]
    }
   ],
   "source": [
    "class Log:\n",
    "    _instance = None\n",
    "\n",
    "    def __new__(cls):\n",
    "        if cls._instance is None: ### if object empty use cls \n",
    "            cls._instance = super().__new__(cls) \n",
    "        return cls._instance\n",
    "\n",
    "    def print_details(self, message):\n",
    "        print(f\"Log: {message}\")\n",
    "\n",
    "l1 = Log()\n",
    "l2 = Log()\n",
    "\n",
    "print(l1 is l2)  # Output: True\n",
    "\n",
    "l1.print_details(\"m1\")\n",
    "l2.print_details(\"m2\")\n"
   ]
  }
 ],
 "metadata": {
  "kernelspec": {
   "display_name": "base",
   "language": "python",
   "name": "python3"
  },
  "language_info": {
   "codemirror_mode": {
    "name": "ipython",
    "version": 3
   },
   "file_extension": ".py",
   "mimetype": "text/x-python",
   "name": "python",
   "nbconvert_exporter": "python",
   "pygments_lexer": "ipython3",
   "version": "3.11.5"
  }
 },
 "nbformat": 4,
 "nbformat_minor": 2
}
