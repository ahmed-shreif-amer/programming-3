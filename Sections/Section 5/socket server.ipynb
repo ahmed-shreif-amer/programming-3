{
 "cells": [
  {
   "cell_type": "code",
   "execution_count": 22,
   "metadata": {},
   "outputs": [
    {
     "name": "stdout",
     "output_type": "stream",
     "text": [
      "creation done\n"
     ]
    }
   ],
   "source": [
    "import socket\n",
    "\n",
    "host = \"127.0.0.1\"\n",
    "port = 3000\n",
    "\n",
    "con = socket.socket(socket.AF_INET , socket.SOCK_STREAM)\n",
    "con.bind((host,port))\n",
    "\n",
    "con.listen()\n",
    "print (\"creation done\")\n"
   ]
  },
  {
   "cell_type": "code",
   "execution_count": 23,
   "metadata": {},
   "outputs": [
    {
     "name": "stdout",
     "output_type": "stream",
     "text": [
      "b'hello !! ..... sent by client'\n"
     ]
    }
   ],
   "source": [
    "while True :\n",
    "    con , addr = con.accept()\n",
    "    con.send(b\"hello !! .... send by server\")\n",
    "\n",
    "    data = con.recv(1024)\n",
    "    print(data)\n",
    "    con.close()\n",
    "    break"
   ]
  },
  {
   "cell_type": "code",
   "execution_count": null,
   "metadata": {},
   "outputs": [],
   "source": []
  }
 ],
 "metadata": {
  "kernelspec": {
   "display_name": "base",
   "language": "python",
   "name": "python3"
  },
  "language_info": {
   "codemirror_mode": {
    "name": "ipython",
    "version": 3
   },
   "file_extension": ".py",
   "mimetype": "text/x-python",
   "name": "python",
   "nbconvert_exporter": "python",
   "pygments_lexer": "ipython3",
   "version": "3.11.5"
  }
 },
 "nbformat": 4,
 "nbformat_minor": 2
}
