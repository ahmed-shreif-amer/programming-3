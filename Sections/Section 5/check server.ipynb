{
 "cells": [
  {
   "cell_type": "code",
   "execution_count": 1,
   "metadata": {},
   "outputs": [],
   "source": [
    "import socket\n",
    "import sys"
   ]
  },
  {
   "cell_type": "code",
   "execution_count": 4,
   "metadata": {},
   "outputs": [
    {
     "name": "stdout",
     "output_type": "stream",
     "text": [
      "socket done \n"
     ]
    }
   ],
   "source": [
    "try:\n",
    "    s = socket.socket(socket.AF_INET , socket.SOCK_STREAM)\n",
    "    print(\"socket done \")\n",
    "except:\n",
    "    print (\"THERE IS ERROR \")\n"
   ]
  },
  {
   "cell_type": "code",
   "execution_count": 5,
   "metadata": {},
   "outputs": [
    {
     "name": "stdout",
     "output_type": "stream",
     "text": [
      "172.67.210.80\n",
      "connection done\n"
     ]
    }
   ],
   "source": [
    "try:\n",
    "    host_ip= socket.gethostbyname('www.orcagroup.top')\n",
    "    print(host_ip)\n",
    "    print(\"connection done\")\n",
    "except:\n",
    "    print(\"an error occured\")\n",
    "    sys.exit()\n",
    "\n",
    "s.connect((host_ip, 80))"
   ]
  },
  {
   "cell_type": "code",
   "execution_count": null,
   "metadata": {},
   "outputs": [],
   "source": []
  }
 ],
 "metadata": {
  "kernelspec": {
   "display_name": "base",
   "language": "python",
   "name": "python3"
  },
  "language_info": {
   "codemirror_mode": {
    "name": "ipython",
    "version": 3
   },
   "file_extension": ".py",
   "mimetype": "text/x-python",
   "name": "python",
   "nbconvert_exporter": "python",
   "pygments_lexer": "ipython3",
   "version": "3.11.5"
  }
 },
 "nbformat": 4,
 "nbformat_minor": 2
}
