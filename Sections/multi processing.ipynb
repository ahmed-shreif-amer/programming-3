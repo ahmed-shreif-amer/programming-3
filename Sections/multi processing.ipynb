{
 "cells": [
  {
   "cell_type": "code",
   "execution_count": 2,
   "metadata": {},
   "outputs": [],
   "source": [
    "import time\n",
    "import multiprocessing"
   ]
  },
  {
   "cell_type": "code",
   "execution_count": null,
   "metadata": {},
   "outputs": [],
   "source": [
    "def calc_square(numbers):\n",
    "    for n in numbers:\n",
    "        time.sleep(5)\n",
    "        print ('square '+ str(n*n))\n",
    " \n",
    "def calc_cupe(numbers):\n",
    "    for n in numbers:\n",
    "        time.sleep(5)\n",
    "        print ('cupe '+ str(n*n*n))\n",
    " \n",
    "numbers = [1,3,7,22]"
   ]
  },
  {
   "cell_type": "markdown",
   "metadata": {},
   "source": [
    "#### processing"
   ]
  },
  {
   "cell_type": "code",
   "execution_count": null,
   "metadata": {},
   "outputs": [],
   "source": [
    "p1=multiprocessing.Process(target=calc_square , args=(numbers,))\n",
    "p2=multiprocessing.Process(target=calc_cupe , args=(numbers,))\n",
    "\n",
    "p1.start()  ##start new process \n",
    "p2.start()\n",
    "\n",
    "p1.join() ## make the after not work untill the proccees finished \n",
    "p2.join()\n",
    "\n",
    "print(\"done\")"
   ]
  },
  {
   "cell_type": "markdown",
   "metadata": {},
   "source": [
    "#### queue "
   ]
  },
  {
   "cell_type": "code",
   "execution_count": 3,
   "metadata": {},
   "outputs": [],
   "source": [
    "def square ( mylist ,q ):\n",
    "    for num in mylist:\n",
    "        q.put (num*num) ## put element in queue\n",
    "\n",
    "def print_queue (q):\n",
    "    while not q.empty ():\n",
    "        print (q.get()) ## get elemnt from queue \n",
    "    print (\"queue not empty\")\n",
    "\n"
   ]
  },
  {
   "cell_type": "markdown",
   "metadata": {},
   "source": [
    "#### use 2 lists (\"and shared resource\") "
   ]
  },
  {
   "cell_type": "code",
   "execution_count": null,
   "metadata": {},
   "outputs": [],
   "source": [
    "from multiprocessing import Process ,Array ,Value # wafer ramat ya medhat\n",
    "from time import sleep\n",
    "\n",
    "def array_edit(arr, val):\n",
    "    for num in range(len(arr)):\n",
    "        arr[num] += val\n",
    "\n",
    "def value_edit(val):\n",
    "    val.value += 100\n",
    "\n",
    "if __name__ == \"__main__\":\n",
    "    shared_array = Array('i', [1, 2, 3, 4, 5,6,7,8])\n",
    "    shared_value = Value('i', 100)\n",
    "\n",
    "    print(\"Firest elemnt :\", tuple(shared_array))\n",
    "    print(\"Firest value:\", shared_value.value)\n",
    "    print()\n",
    "\n",
    "    p1 = Process(target=array_edit, args=(shared_array, 8))\n",
    "    p1 = Process(target=value_edit, args=(shared_value,))\n",
    "\n",
    "    p1.start()\n",
    "    p2.start()\n",
    "\n",
    "    p1.join()\n",
    "    p2.join()\n",
    "\n",
    "    print(\"Modified elemnt:\", list(shared_array))\n",
    "    print(\"Modified value :\", shared_value.value)"
   ]
  }
 ],
 "metadata": {
  "kernelspec": {
   "display_name": "base",
   "language": "python",
   "name": "python3"
  },
  "language_info": {
   "codemirror_mode": {
    "name": "ipython",
    "version": 3
   },
   "file_extension": ".py",
   "mimetype": "text/x-python",
   "name": "python",
   "nbconvert_exporter": "python",
   "pygments_lexer": "ipython3",
   "version": "3.11.5"
  }
 },
 "nbformat": 4,
 "nbformat_minor": 2
}
