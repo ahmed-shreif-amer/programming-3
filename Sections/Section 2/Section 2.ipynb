{
 "cells": [
  {
   "cell_type": "markdown",
   "metadata": {},
   "source": [
    "## libraries"
   ]
  },
  {
   "cell_type": "code",
   "execution_count": 1,
   "metadata": {},
   "outputs": [],
   "source": [
    "import time\n",
    "import multiprocessing\n",
    "import threading"
   ]
  },
  {
   "cell_type": "code",
   "execution_count": 1,
   "metadata": {},
   "outputs": [
    {
     "name": "stdout",
     "output_type": "stream",
     "text": [
      "this is module file \n",
      "this is my funcution\n"
     ]
    }
   ],
   "source": [
    "from module import *\n",
    "func1()"
   ]
  },
  {
   "cell_type": "markdown",
   "metadata": {},
   "source": [
    "## functions"
   ]
  },
  {
   "cell_type": "code",
   "execution_count": 3,
   "metadata": {},
   "outputs": [
    {
     "name": "stdout",
     "output_type": "stream",
     "text": [
      "square 1\n",
      "square 9\n",
      "square 49\n",
      "square 484\n",
      "cupe 1\n",
      "cupe 27\n",
      "cupe 343\n",
      "cupe 10648\n"
     ]
    }
   ],
   "source": [
    "def calc_square(numbers):\n",
    "    for n in numbers:\n",
    "        time.sleep(5)\n",
    "        print ('square '+ str(n*n))\n",
    " \n",
    "def calc_cupe(numbers):\n",
    "    for n in numbers:\n",
    "        time.sleep(5)\n",
    "        print ('cupe '+ str(n*n*n))\n",
    " \n",
    "numbers = [1,3,7,22]\n",
    "\n",
    "calc_square(numbers)\n",
    "calc_cupe(numbers)\n"
   ]
  },
  {
   "cell_type": "markdown",
   "metadata": {},
   "source": [
    "## multi processing\n",
    "### all time multi processing is concurancy"
   ]
  },
  {
   "cell_type": "code",
   "execution_count": 19,
   "metadata": {},
   "outputs": [
    {
     "name": "stdout",
     "output_type": "stream",
     "text": [
      "done\n"
     ]
    }
   ],
   "source": [
    "p1=multiprocessing.Process(target=calc_square , args=(numbers,))\n",
    "p2=multiprocessing.Process(target=calc_cupe , args=(numbers,))\n",
    "\n",
    "p1.start()  ##start new process \n",
    "p2.start()\n",
    "\n",
    "p1.join() ## make the after not work untill the proccees finished \n",
    "p2.join()\n",
    "\n",
    "print(\"done\")"
   ]
  },
  {
   "cell_type": "code",
   "execution_count": 20,
   "metadata": {},
   "outputs": [
    {
     "name": "stdout",
     "output_type": "stream",
     "text": [
      "square 1cupe 1\n",
      "\n",
      "square 9cupe 9\n",
      "\n",
      "square 49cupe 49\n",
      "\n",
      "cupe 484square 484\n",
      "\n",
      "done\n"
     ]
    }
   ],
   "source": [
    "t1 = threading.Thread (target=calc_square , args=(numbers,))\n",
    "t2 = threading.Thread (target=calc_cupe , args=(numbers,))\n",
    "\n",
    "t1.start()\n",
    "t2.start()\n",
    "\n",
    "t1.join()\n",
    "t2.join()\n",
    "print(\"done\")"
   ]
  }
 ],
 "metadata": {
  "kernelspec": {
   "display_name": "base",
   "language": "python",
   "name": "python3"
  },
  "language_info": {
   "codemirror_mode": {
    "name": "ipython",
    "version": 3
   },
   "file_extension": ".py",
   "mimetype": "text/x-python",
   "name": "python",
   "nbconvert_exporter": "python",
   "pygments_lexer": "ipython3",
   "version": "3.11.5"
  }
 },
 "nbformat": 4,
 "nbformat_minor": 2
}
